{
 "cells": [
  {
   "cell_type": "markdown",
   "id": "f6f31e71",
   "metadata": {},
   "source": [
    "# Project Assignment 3: Amazon Review Classification System (Custom Implementation)\n",
    "\n",
    "**Name/Group ID:** Berke Yusuf Uğurlu - Yusuf İpek (Group 6)\n",
    "\n",
    "**Date:** April 21, 2025\n",
    "\n",
    "**Course:** BBM 409 - Machine Learning Laboratory\n",
    "\n",
    "---\n",
    "\n",
    "**Objective:** Implement a Naive Bayes classifier from scratch using a custom Bag-of-Words (BoW) implementation to classify Amazon reviews as positive or negative. Library usage is restricted to data handling (pandas, numpy), visualization (matplotlib, seaborn), basic text processing (re), math operations (math, collections), and data splitting (train_test_split)."
   ]
  },
  {
   "cell_type": "markdown",
   "id": "661e0ffb",
   "metadata": {},
   "source": [
    "## 1. Import Libraries"
   ]
  },
  {
   "cell_type": "code",
   "execution_count": 4,
   "id": "0632282c",
   "metadata": {},
   "outputs": [],
   "source": [
    "# Data manipulation and analysis\n",
    "import pandas as pd\n",
    "import numpy as np\n",
    "import re\n",
    "import math\n",
    "from collections import Counter, defaultdict\n",
    "\n",
    "# Visualization\n",
    "import matplotlib.pyplot as plt\n",
    "import seaborn as sns\n",
    "\n",
    "# Data splitting (Allowed exception)\n",
    "from sklearn.model_selection import train_test_split\n",
    "\n",
    "# Set random seed for reproducibility\n",
    "np.random.seed(42)"
   ]
  },
  {
   "cell_type": "markdown",
   "id": "5865c1bd",
   "metadata": {},
   "source": [
    "## 2. Load and Explore the Dataset"
   ]
  },
  {
   "cell_type": "code",
   "execution_count": 6,
   "id": "409da1e6",
   "metadata": {},
   "outputs": [
    {
     "name": "stdout",
     "output_type": "stream",
     "text": [
      "Sample of the dataset:\n"
     ]
    },
    {
     "data": {
      "text/html": [
       "<div>\n",
       "<style scoped>\n",
       "    .dataframe tbody tr th:only-of-type {\n",
       "        vertical-align: middle;\n",
       "    }\n",
       "\n",
       "    .dataframe tbody tr th {\n",
       "        vertical-align: top;\n",
       "    }\n",
       "\n",
       "    .dataframe thead th {\n",
       "        text-align: right;\n",
       "    }\n",
       "</style>\n",
       "<table border=\"1\" class=\"dataframe\">\n",
       "  <thead>\n",
       "    <tr style=\"text-align: right;\">\n",
       "      <th></th>\n",
       "      <th>Title</th>\n",
       "      <th>Content</th>\n",
       "      <th>Star</th>\n",
       "    </tr>\n",
       "  </thead>\n",
       "  <tbody>\n",
       "    <tr>\n",
       "      <th>0</th>\n",
       "      <td>Didn't work</td>\n",
       "      <td>No change in nails at all.</td>\n",
       "      <td>1.0</td>\n",
       "    </tr>\n",
       "    <tr>\n",
       "      <th>1</th>\n",
       "      <td>Worst nail product I have ever used.</td>\n",
       "      <td>Garbage! Do not waste your $$$. My nails were ...</td>\n",
       "      <td>1.0</td>\n",
       "    </tr>\n",
       "    <tr>\n",
       "      <th>2</th>\n",
       "      <td>Just didn't work</td>\n",
       "      <td>Nails are still brittle</td>\n",
       "      <td>1.0</td>\n",
       "    </tr>\n",
       "    <tr>\n",
       "      <th>3</th>\n",
       "      <td>Scum</td>\n",
       "      <td>Didn’t do any improvement at all.</td>\n",
       "      <td>1.0</td>\n",
       "    </tr>\n",
       "    <tr>\n",
       "      <th>4</th>\n",
       "      <td>Okay for cuticles</td>\n",
       "      <td>Helped cuticles, didn't do much for my nails. ...</td>\n",
       "      <td>1.0</td>\n",
       "    </tr>\n",
       "  </tbody>\n",
       "</table>\n",
       "</div>"
      ],
      "text/plain": [
       "                                  Title  \\\n",
       "0                           Didn't work   \n",
       "1  Worst nail product I have ever used.   \n",
       "2                      Just didn't work   \n",
       "3                                  Scum   \n",
       "4                     Okay for cuticles   \n",
       "\n",
       "                                             Content  Star  \n",
       "0                         No change in nails at all.   1.0  \n",
       "1  Garbage! Do not waste your $$$. My nails were ...   1.0  \n",
       "2                            Nails are still brittle   1.0  \n",
       "3                  Didn’t do any improvement at all.   1.0  \n",
       "4  Helped cuticles, didn't do much for my nails. ...   1.0  "
      ]
     },
     "execution_count": 6,
     "metadata": {},
     "output_type": "execute_result"
    }
   ],
   "source": [
    "# load data\n",
    "reviews_df = pd.read_csv('amazon_reviews.csv')\n",
    "\n",
    "# display \n",
    "print(\"Sample of the dataset:\")\n",
    "reviews_df.head()"
   ]
  },
  {
   "cell_type": "code",
   "execution_count": 13,
   "id": "4d91ede9",
   "metadata": {},
   "outputs": [
    {
     "name": "stdout",
     "output_type": "stream",
     "text": [
      "Dataset shape: (72500, 3)\n",
      "\n",
      "Column names: ['Title', 'Content', 'Star']\n",
      "\n",
      "Data types:\n",
      "<class 'pandas.core.frame.DataFrame'>\n",
      "RangeIndex: 72500 entries, 0 to 72499\n",
      "Data columns (total 3 columns):\n",
      " #   Column   Non-Null Count  Dtype  \n",
      "---  ------   --------------  -----  \n",
      " 0   Title    72500 non-null  object \n",
      " 1   Content  72500 non-null  object \n",
      " 2   Star     72500 non-null  float64\n",
      "dtypes: float64(1), object(2)\n",
      "memory usage: 1.7+ MB\n",
      "\n",
      "Missing values:\n",
      "Title      0\n",
      "Content    0\n",
      "Star       0\n",
      "dtype: int64\n"
     ]
    }
   ],
   "source": [
    "# basics about the dataset\n",
    "print(\"Dataset shape:\", reviews_df.shape)\n",
    "print(\"\\nColumn names:\", reviews_df.columns.tolist())\n",
    "\n",
    "print(\"\\nData types:\")\n",
    "reviews_df.info()\n",
    "\n",
    "print(\"\\nMissing values:\")\n",
    "print(reviews_df.isnull().sum())"
   ]
  },
  {
   "cell_type": "code",
   "execution_count": 15,
   "id": "8a09765c",
   "metadata": {},
   "outputs": [
    {
     "data": {
      "image/png": "[encoded data removed]",
      "text/plain": [
       "<Figure size 1000x600 with 1 Axes>"
      ]
     },
     "metadata": {},
     "output_type": "display_data"
    },
    {
     "name": "stdout",
     "output_type": "stream",
     "text": [
      "Star rating distribution:\n",
      " Star\n",
      "1.0    14500\n",
      "2.0    14500\n",
      "3.0    14500\n",
      "4.0    14500\n",
      "5.0    14500\n",
      "Name: count, dtype: int64\n"
     ]
    }
   ],
   "source": [
    "# show distribution of star ratings\n",
    "plt.figure(figsize=(10, 6))\n",
    "reviews_df['Star'].value_counts().sort_index().plot(kind='bar')\n",
    "plt.title('Distribution of Star Ratings')\n",
    "plt.xlabel('Star Rating')\n",
    "plt.ylabel('Count')\n",
    "plt.show()\n",
    "\n",
    "print(\"Star rating distribution:\\n\", reviews_df['Star'].value_counts().sort_index())"
   ]
  },
  {
   "cell_type": "markdown",
   "id": "5223b241",
   "metadata": {},
   "source": [
    "## 3. Convert to Binary Classification\n",
    "\n",
    "Convert the multi-class star ratings into a binary classification problem:\n",
    "- Negative reviews (0): 1-2 stars\n",
    "- Positive reviews (1): 4-5 stars\n",
    "\n",
    "Exclude 3-star (neutral) reviews."
   ]
  },
  {
   "cell_type": "code",
   "execution_count": 18,
   "id": "86da8d5f",
   "metadata": {},
   "outputs": [
    {
     "data": {
      "image/png": "[encoded data removed]",
      "text/plain": [
       "<Figure size 800x600 with 1 Axes>"
      ]
     },
     "metadata": {},
     "output_type": "display_data"
    },
    {
     "name": "stdout",
     "output_type": "stream",
     "text": [
      "Binary sentiment distribution:\n",
      "sentiment\n",
      "0    29000\n",
      "1    29000\n",
      "Name: count, dtype: int64\n"
     ]
    }
   ],
   "source": [
    "# 0 for negative (1-2 stars), 1 for positive (4-5 stars), none for neutral (3)\n",
    "reviews_df['sentiment'] = reviews_df['Star'].apply(lambda x: 0 if x <= 2 else (1 if x >= 4 else None))\n",
    "binary_df = reviews_df.dropna(subset=['sentiment']).copy() # remove neutrals\n",
    "binary_df['sentiment'] = binary_df['sentiment'].astype(int)\n",
    "\n",
    "# show plot\n",
    "plt.figure(figsize=(8, 6))\n",
    "sns.countplot(x='sentiment', data=binary_df)\n",
    "plt.title('Distribution of Binary Sentiment')\n",
    "plt.xlabel('Sentiment (0=Negative, 1=Positive)')\n",
    "plt.ylabel('Count')\n",
    "plt.xticks([0, 1], ['Negative (0)', 'Positive (1)'])\n",
    "plt.show()\n",
    "\n",
    "print(\"Binary sentiment distribution:\")\n",
    "print(binary_df['sentiment'].value_counts())"
   ]
  },
  {
   "cell_type": "markdown",
   "id": "0f96ccd7",
   "metadata": {},
   "source": [
    "## 4. Custom Text Preprocessing\n",
    "\n",
    "Implement a basic text preprocessing function without using external NLP libraries like NLTK."
   ]
  },
  {
   "cell_type": "code",
   "execution_count": 23,
   "id": "1accc91f",
   "metadata": {},
   "outputs": [],
   "source": [
    "# -- Preprocces Text --\n",
    "# to lowercase\n",
    "# remove non-alphanumeric chars\n",
    "# remove digits\n",
    "# remove stop words\n",
    "# split into tokens\n",
    "\n",
    "STOPWORDS = [\n",
    "    \"i\", \"me\", \"my\", \"myself\", \"we\", \"our\", \"ours\", \"ourselves\", \"you\", \"your\", \"yours\",\n",
    "    \"yourself\", \"yourselves\", \"he\", \"him\", \"his\", \"himself\", \"she\", \"her\", \"hers\", \n",
    "    \"herself\", \"it\", \"its\", \"itself\", \"they\", \"them\", \"their\", \"theirs\", \"themselves\",\n",
    "    \"what\", \"which\", \"who\", \"whom\", \"this\", \"that\", \"these\", \"those\", \"am\", \"is\", \"are\",\n",
    "    \"was\", \"were\", \"be\", \"been\", \"being\", \"have\", \"has\", \"had\", \"having\", \"do\", \"does\",\n",
    "    \"did\", \"doing\", \"a\", \"an\", \"the\", \"and\", \"but\", \"if\", \"or\", \"because\", \"as\", \"until\",\n",
    "    \"while\", \"of\", \"at\", \"by\", \"for\", \"with\", \"about\", \"against\", \"between\", \"into\",\n",
    "    \"through\", \"during\", \"before\", \"after\", \"above\", \"below\", \"to\", \"from\", \"up\", \"down\",\n",
    "    \"in\", \"out\", \"on\", \"off\", \"over\", \"under\", \"again\", \"further\", \"then\", \"once\", \"here\",\n",
    "    \"there\", \"when\", \"where\", \"why\", \"how\", \"all\", \"any\", \"both\", \"each\", \"few\", \"more\",\n",
    "    \"most\", \"other\", \"some\", \"such\", \"no\", \"nor\", \"not\", \"only\", \"own\", \"same\", \"so\",\n",
    "    \"than\", \"too\", \"very\", \"s\", \"t\", \"can\", \"will\", \"just\", \"don\", \"should\", \"now\"\n",
    "]\n",
    "stopwords_pattern = r'\\b(' + '|'.join(STOPWORDS) + r')\\b'\n",
    "\n",
    "def preprocess_text(text):\n",
    "    if not isinstance(text, str):\n",
    "        return []\n",
    "    \n",
    "    text = text.lower()\n",
    "    text = re.sub(r'[^a-z\\s]', '', text) # non alphanumberic chars\n",
    "    text = re.sub(r'\\d+', '', text) # digits\n",
    "    text = re.sub(stopwords_pattern, '', text)  # stopwords\n",
    "    text = re.sub(r'\\s+', ' ', text).strip()    # extra whitespaces\n",
    "\n",
    "    \n",
    "    \n",
    "    tokens = text.split()\n",
    "    return tokens"
   ]
  },
  {
   "cell_type": "code",
   "execution_count": 24,
   "id": "6a2cfee8",
   "metadata": {},
   "outputs": [
    {
     "name": "stdout",
     "output_type": "stream",
     "text": [
      "Applying custom text preprocessing...\n",
      "\n",
      "Sample of preprocessed text (tokens):\n",
      "                                                                                                                                                                                            full_text  \\\n",
      "0                                                                                                                                                              Didn't work No change in nails at all.   \n",
      "1  Worst nail product I have ever used. Garbage! Do not waste your $$$. My nails were worse after using this product for two weeks.  Pathetic!  Going back to my Vaseline Healthy Hand and and Nails.   \n",
      "2                                                                                                                                                            Just didn't work Nails are still brittle   \n",
      "\n",
      "                                                                                                                                                tokens  \n",
      "0                                                                                                                         [didnt, work, change, nails]  \n",
      "1  [worst, nail, product, ever, used, garbage, waste, nails, worse, using, product, two, weeks, pathetic, going, back, vaseline, healthy, hand, nails]  \n",
      "2                                                                                                                 [didnt, work, nails, still, brittle]  \n"
     ]
    }
   ],
   "source": [
    "# Apply preprocessing\n",
    "print(\"Applying custom text preprocessing...\")\n",
    "\n",
    "binary_df['full_text'] = binary_df['Title'] + \" \" + binary_df['Content'] # combine title and content\n",
    "binary_df['tokens'] = binary_df['full_text'].apply(preprocess_text)\n",
    "\n",
    "# Display a sample of preprocessed text\n",
    "print(\"\\nSample of preprocessed text (tokens):\")\n",
    "sample = binary_df[['full_text', 'tokens']].head(3)\n",
    "pd.set_option('display.max_colwidth', 200)\n",
    "print(sample)"
   ]
  },
  {
   "cell_type": "markdown",
   "id": "337ca902",
   "metadata": {},
   "source": [
    "## 5. Custom Bag-of-Words (BoW) Implementation\n",
    "\n",
    "Implement BoW feature extraction from scratch, including vocabulary building and handling n-grams."
   ]
  },
  {
   "cell_type": "code",
   "execution_count": 31,
   "id": "c11d5206",
   "metadata": {},
   "outputs": [],
   "source": [
    "# -- Build Vocabulary --\n",
    "\n",
    "def build_vocabulary(token_lists, min_freq=2):\n",
    "    \"\"\"Builds a vocabulary from a list of token lists.\n",
    "    Args:\n",
    "        token_lists: A list where each element is a list of tokens (words).\n",
    "        min_freq: Minimum frequency for a word to be included in the vocab.\n",
    "    Returns:\n",
    "        A set representing the vocabulary.\n",
    "    \"\"\"\n",
    "    word_counts = Counter()\n",
    "    for tokens in token_lists:\n",
    "        word_counts.update(tokens)\n",
    "    \n",
    "    # Filter words based on minimum frequency\n",
    "    vocab = {word for word, count in word_counts.items() if count >= min_freq}\n",
    "    print(f\"Built vocabulary with {len(vocab)} words (min_freq={min_freq}). Original unique words: {len(word_counts)}\")\n",
    "    return vocab"
   ]
  },
  {
   "cell_type": "code",
   "execution_count": 32,
   "id": "0da48276",
   "metadata": {},
   "outputs": [],
   "source": [
    "# -- Get NGRAMS --\n",
    "\n",
    "def get_ngrams(tokens, n):\n",
    "    ngrams = []\n",
    "    for i in range(len(tokens) - n + 1):\n",
    "        ngrams.append(\"_\".join(tokens[i:i+n])) # Join n-grams with underscore\n",
    "    return ngrams"
   ]
  },
  {
   "cell_type": "code",
   "execution_count": 33,
   "id": "35215399",
   "metadata": {},
   "outputs": [],
   "source": [
    "# -- Text to BoW (Bag of Words)\n",
    "# convert tokens to bow representation\n",
    "\n",
    "def text_to_bow(tokens, vocab, use_unigrams=True, use_bigrams=False):\n",
    "    bow = Counter()\n",
    "    features_to_count = []\n",
    "    \n",
    "    if use_unigrams:\n",
    "        features_to_count.extend(tokens)\n",
    "        \n",
    "    if use_bigrams:\n",
    "        features_to_count.extend(get_ngrams(tokens, 2))\n",
    "\n",
    "    for feature in features_to_count:\n",
    "        if feature in vocab:\n",
    "            bow[feature] += 1\n",
    "            \n",
    "    return bow"
   ]
  },
  {
   "cell_type": "markdown",
   "id": "14f896b0",
   "metadata": {},
   "source": [
    "## 6. Data Splitting"
   ]
  },
  {
   "cell_type": "code",
   "execution_count": 34,
   "id": "c7cc2e2b",
   "metadata": {},
   "outputs": [
    {
     "name": "stdout",
     "output_type": "stream",
     "text": [
      "Training set size: 46400\n",
      "Testing set size: 11600\n",
      "Training labels distribution:\n",
      "sentiment\n",
      "0    0.5\n",
      "1    0.5\n",
      "Name: proportion, dtype: float64\n",
      "Testing labels distribution:\n",
      "sentiment\n",
      "0    0.5\n",
      "1    0.5\n",
      "Name: proportion, dtype: float64\n"
     ]
    }
   ],
   "source": [
    "# X contains the lists of tokens, y contains the sentiment labels\n",
    "X = binary_df['tokens'] \n",
    "y = binary_df['sentiment']\n",
    "\n",
    "# Split data to training and testing sets (80% train, 20% test)\n",
    "X_train_tokens, X_test_tokens, y_train, y_test = train_test_split(X, y, test_size=0.2, random_state=42, stratify=y)\n",
    "\n",
    "print(f\"Training set size: {len(X_train_tokens)}\")\n",
    "print(f\"Testing set size: {len(X_test_tokens)}\")\n",
    "print(f\"Training labels distribution:\\n{y_train.value_counts(normalize=True)}\")\n",
    "print(f\"Testing labels distribution:\\n{y_test.value_counts(normalize=True)}\")"
   ]
  },
  {
   "cell_type": "markdown",
   "id": "bb10fccc",
   "metadata": {},
   "source": [
    "## 7. Build Vocabulary and Create BoW Features\n",
    "\n",
    "Build the vocabulary *only* from the training data to avoid data leakage. Then, transform both training and test sets into BoW representations."
   ]
  },
  {
   "cell_type": "code",
   "execution_count": 36,
   "id": "416fc9ca",
   "metadata": {},
   "outputs": [
    {
     "name": "stdout",
     "output_type": "stream",
     "text": [
      "\n",
      "--- Processing Unigrams ---\n",
      "Built vocabulary with 11018 words (min_freq=3). Original unique words: 33618\n",
      "\n",
      "--- Processing Bigrams ---\n",
      "Built vocabulary with 30890 words (min_freq=5). Original unique words: 527359\n",
      "\n",
      "Sample Unigram BoW vector (first training instance):\n",
      "[('smell', 2), ('smells', 1), ('good', 1), ('bit', 1), ('strong', 1), ('dont', 1), ('spray', 1), ('much', 1), ('try', 1), ('spraying', 1)]\n",
      "\n",
      "Sample Bigram BoW vector (first training instance):\n",
      "[('smell', 2), ('smells', 1), ('good', 1), ('bit', 1), ('strong', 1), ('dont', 1), ('spray', 1), ('much', 1), ('try', 1), ('spraying', 1)]\n"
     ]
    }
   ],
   "source": [
    "# --- Unigram Features ---\n",
    "print(\"\\n--- Processing Unigrams ---\")\n",
    "unigram_vocab = build_vocabulary(X_train_tokens, min_freq=3) # Adjust min_freq as needed\n",
    "\n",
    "# Create unigram BoW for training and test sets\n",
    "X_train_bow_uni = [text_to_bow(tokens, unigram_vocab, use_unigrams=True, use_bigrams=False) for tokens in X_train_tokens]\n",
    "X_test_bow_uni = [text_to_bow(tokens, unigram_vocab, use_unigrams=True, use_bigrams=False) for tokens in X_test_tokens]\n",
    "\n",
    "# --- Bigram Features ---\n",
    "print(\"\\n--- Processing Bigrams ---\")\n",
    "train_features_bi = []\n",
    "for tokens in X_train_tokens:\n",
    "    train_features_bi.extend(tokens)\n",
    "    train_features_bi.extend(get_ngrams(tokens, 2))\n",
    "\n",
    "bigram_vocab = build_vocabulary([train_features_bi], min_freq=5) # Use higher min_freq for combined features\n",
    "\n",
    "# Create combined unigram+bigram BoW for training and test sets\n",
    "X_train_bow_bi = [text_to_bow(tokens, bigram_vocab, use_unigrams=True, use_bigrams=True) for tokens in X_train_tokens]\n",
    "X_test_bow_bi = [text_to_bow(tokens, bigram_vocab, use_unigrams=True, use_bigrams=True) for tokens in X_test_tokens]\n",
    "\n",
    "# Display a sample BoW vector\n",
    "print(\"\\nSample Unigram BoW vector (first training instance):\")\n",
    "print(list(X_train_bow_uni[0].items())[:10]) # Show first 10 items\n",
    "print(\"\\nSample Bigram BoW vector (first training instance):\")\n",
    "print(list(X_train_bow_bi[0].items())[:10]) # Show first 10 items"
   ]
  },
  {
   "cell_type": "markdown",
   "id": "f55dbb05",
   "metadata": {},
   "source": [
    "## 8. Custom Naive Bayes Implementation\n",
    "\n",
    "Implement the Multinomial Naive Bayes algorithm from scratch using logarithmic probabilities and Laplace smoothing."
   ]
  },
  {
   "cell_type": "code",
   "execution_count": 42,
   "id": "47097be6",
   "metadata": {},
   "outputs": [],
   "source": [
    "class NaiveBayes:\n",
    "    def __init__(self, alpha=1.0):\n",
    "        self.alpha = alpha\n",
    "        self.vocab = set()\n",
    "        self.log_priors = {} # log P(class)\n",
    "        self.log_likelihoods = defaultdict(lambda: defaultdict(float)) # log P(word|class)\n",
    "        self.classes = []\n",
    "        self.vocab_size = 0\n",
    "        self.log_likelihood_unknown = {} # log P(unknown|class)\n",
    "\n",
    "    # Train the Naive Bayes classifier\n",
    "    def fit(self, X_bow, y, vocab):\n",
    "        self.vocab = vocab\n",
    "        self.vocab_size = len(self.vocab)\n",
    "        n_docs = len(X_bow)\n",
    "        self.classes = sorted(list(y.unique()))\n",
    "        \n",
    "        # Calculate log priors: log P(class) = log(N_class / N_total)\n",
    "        class_counts = Counter(y)\n",
    "        for c in self.classes:\n",
    "            self.log_priors[c] = math.log(class_counts[c] / n_docs)\n",
    "            \n",
    "        # Calculate word counts per class\n",
    "        word_counts_per_class = defaultdict(Counter)\n",
    "        total_words_per_class = defaultdict(float)\n",
    "        \n",
    "        for bow, label in zip(X_bow, y):\n",
    "            word_counts_per_class[label].update(bow)\n",
    "            total_words_per_class[label] += sum(bow.values())\n",
    "            \n",
    "        # Calculate log likelihoods: log P(word|class)\n",
    "        # Use Laplace smoothing: log((count(word, class) + alpha) / (total_words_class + alpha * vocab_size))\n",
    "        for c in self.classes:\n",
    "            denominator = total_words_per_class[c] + self.alpha * self.vocab_size\n",
    "            # Calculate likelihood for known words\n",
    "            for word in self.vocab:\n",
    "                numerator = word_counts_per_class[c][word] + self.alpha\n",
    "                self.log_likelihoods[c][word] = math.log(numerator / denominator)\n",
    "            # Calculate likelihood for unknown words (seen during prediction but not in vocab)\n",
    "            # P(unknown|class) = alpha / (total_words_class + alpha * vocab_size)\n",
    "            self.log_likelihood_unknown[c] = math.log(self.alpha / denominator)\n",
    "            \n",
    "        print(\"Naive Bayes training complete.\")\n",
    "        print(f\"Log Priors: {self.log_priors}\")\n",
    "        # print(f\"Sample Log Likelihoods (Class 0): {list(self.log_likelihoods[0].items())[:5]}\")\n",
    "        # print(f\"Sample Log Likelihoods (Class 1): {list(self.log_likelihoods[1].items())[:5]}\")\n",
    "        print(f\"Log Likelihood for Unknown Words: {self.log_likelihood_unknown}\")\n",
    "\n",
    "    # Prediction\n",
    "    def predict(self, X_bow):\n",
    "        predictions = []\n",
    "        for bow in X_bow:\n",
    "            class_scores = {}\n",
    "            for c in self.classes:\n",
    "                # Start with log prior\n",
    "                score = self.log_priors[c]\n",
    "                # Add log likelihoods for words in the document\n",
    "                for word, count in bow.items():\n",
    "                    if word in self.vocab:\n",
    "                        score += count * self.log_likelihoods[c][word]\n",
    "                    else:\n",
    "                        # Handle unknown words encountered during prediction\n",
    "                        score += count * self.log_likelihood_unknown[c]\n",
    "                class_scores[c] = score\n",
    "            \n",
    "            # Choose class with the highest log probability\n",
    "            predicted_class = max(class_scores, key=class_scores.get)\n",
    "            predictions.append(predicted_class)\n",
    "            \n",
    "        return predictions"
   ]
  },
  {
   "cell_type": "markdown",
   "id": "d72b71f8",
   "metadata": {},
   "source": [
    "## 9. Model Training and Evaluation (Custom Implementation)"
   ]
  },
  {
   "attachments": {
    "image.png": {
     "image/png": "[encoded data removed]"
    }
   },
   "cell_type": "markdown",
   "id": "0751da7c",
   "metadata": {},
   "source": [
    "Calculate Metrics by formula\n",
    "<br/><br/>\n",
    "![image.png](attachment:image.png)"
   ]
  },
  {
   "cell_type": "code",
   "execution_count": 50,
   "id": "f6532fd9",
   "metadata": {},
   "outputs": [],
   "source": [
    "# -- Calculate Accuracy --\n",
    "\n",
    "def calculate_accuracy(y_true, y_pred):\n",
    "    correct = sum(1 for true, pred in zip(y_true, y_pred) if true == pred)\n",
    "    return (correct / len(y_true) if len(y_true) > 0 else 0) * 100"
   ]
  },
  {
   "cell_type": "code",
   "execution_count": 51,
   "id": "fe75e41d",
   "metadata": {},
   "outputs": [],
   "source": [
    "# -- Calculate Precision --\n",
    "def calculate_precision(y_true, y_pred):\n",
    "    tp = sum((yt == 1 and yp == 1) for yt, yp in zip(y_true, y_pred))\n",
    "    fp = sum((yt != 1 and yp == 1) for yt, yp in zip(y_true, y_pred))\n",
    "    return (tp / (tp + fp) if (tp + fp) > 0 else 0) * 100"
   ]
  },
  {
   "cell_type": "code",
   "execution_count": 52,
   "id": "bdb61f94",
   "metadata": {},
   "outputs": [],
   "source": [
    "# -- Calculate Recall --\n",
    "def calculate_recall(y_true, y_pred):\n",
    "    tp = sum((yt == 1 and yp == 1) for yt, yp in zip(y_true, y_pred))\n",
    "    fn = sum((yt == 1 and yp != 1) for yt, yp in zip(y_true, y_pred))\n",
    "    return (tp / (tp + fn) if (tp + fn) > 0 else 0) * 100"
   ]
  },
  {
   "cell_type": "code",
   "execution_count": 56,
   "id": "d9411cc5",
   "metadata": {},
   "outputs": [],
   "source": [
    "# -- Calculate F1 Score\n",
    "\n",
    "def calculate_f1_score(y_true, y_pred):\n",
    "    recall = calculate_recall(y_true, y_pred)\n",
    "    precision = calculate_precision(y_true, y_pred)\n",
    "    return 2 / (math.pow(recall, -1) + math.pow(precision, -1))"
   ]
  },
  {
   "cell_type": "code",
   "execution_count": 58,
   "id": "e91365d4",
   "metadata": {},
   "outputs": [],
   "source": [
    "# -- Show Metrics --\n",
    "\n",
    "def show_metrics(y_true, y_pred):\n",
    "    accuracy = calculate_accuracy(y_test, y_pred)\n",
    "    precision = calculate_precision(y_test, y_pred)\n",
    "    recall = calculate_recall(y_test, y_pred)\n",
    "    f1_score = calculate_f1_score(y_test, y_pred)\n",
    "    print(f\"Unigram Model\")\n",
    "    print(f\"Accuracy: {accuracy:.4f}%\")\n",
    "    print(f\"Precision: {precision:.4f}%\")\n",
    "    print(f\"Recall: {recall:.4f}%\")\n",
    "    print(f\"F1 Score: {f1_score:.4f}%\")"
   ]
  },
  {
   "cell_type": "code",
   "execution_count": 79,
   "id": "c850f867",
   "metadata": {},
   "outputs": [
    {
     "name": "stdout",
     "output_type": "stream",
     "text": [
      "\n",
      "--- Training Unigram Naive Bayes ---\n",
      "Naive Bayes training complete.\n",
      "Log Priors: {np.int64(0): -0.6931471805599453, np.int64(1): -0.6931471805599453}\n",
      "Log Likelihood for Unknown Words: {np.int64(0): -13.15504158109491, np.int64(1): -12.956185999230787}\n",
      "\n",
      "--- Evaluating Unigram Naive Bayes ---\n",
      "Unigram Model\n",
      "Unigram Model\n",
      "Accuracy: 85.9397%\n",
      "Precision: 84.0549%\n",
      "Recall: 88.7069%\n",
      "F1 Score: 86.3183%\n",
      "\n",
      "--- Training Bigram Naive Bayes ---\n",
      "Naive Bayes training complete.\n",
      "Log Priors: {np.int64(0): -0.6931471805599453, np.int64(1): -0.6931471805599453}\n",
      "Log Likelihood for Unknown Words: {np.int64(0): -13.450702630795353, np.int64(1): -13.277678521836581}\n",
      "\n",
      "--- Evaluating Bigram Naive Bayes ---\n",
      "Unigram Model\n",
      "Accuracy: 87.5948%\n",
      "Precision: 86.5672%\n",
      "Recall: 89.0000%\n",
      "F1 Score: 87.7667%\n"
     ]
    }
   ],
   "source": [
    "# --- Train and Evaluate Unigram Model ---\n",
    "print(\"\\n--- Training Unigram Naive Bayes ---\")\n",
    "nb_uni = NaiveBayes(alpha=1.0)\n",
    "nb_uni.fit(X_train_bow_uni, y_train, unigram_vocab)\n",
    "\n",
    "print(\"\\n--- Evaluating Unigram Naive Bayes ---\")\n",
    "y_pred_uni = nb_uni.predict(X_test_bow_uni)\n",
    "print(f\"Unigram Model\")\n",
    "show_metrics(y_test, y_pred_uni)\n",
    "\n",
    "# --- Train and Evaluate Bigram (Unigram + Bigram) Model ---\n",
    "print(\"\\n--- Training Bigram Naive Bayes ---\")\n",
    "nb_bi = NaiveBayes(alpha=1.0)\n",
    "nb_bi.fit(X_train_bow_bi, y_train, bigram_vocab)\n",
    "\n",
    "print(\"\\n--- Evaluating Bigram Naive Bayes ---\")\n",
    "y_pred_bi = nb_bi.predict(X_test_bow_bi)\n",
    "show_metrics(y_test, y_pred_bi)"
   ]
  },
  {
   "cell_type": "markdown",
   "id": "0d4de9ec",
   "metadata": {},
   "source": [
    "## 10. Results Summary"
   ]
  },
  {
   "cell_type": "code",
   "execution_count": 92,
   "id": "2dbbc7b9",
   "metadata": {},
   "outputs": [
    {
     "data": {
      "image/png": "[encoded data removed]",
      "text/plain": [
       "<Figure size 1000x200 with 1 Axes>"
      ]
     },
     "metadata": {},
     "output_type": "display_data"
    }
   ],
   "source": [
    "# Display results\n",
    "models = ['Unigrams', 'Unigrams + Bigrams']\n",
    "\n",
    "results = {\n",
    "    'Vocabulary Size': [len(unigram_vocab), len(bigram_vocab)],\n",
    "    'Accuracy (%)': [calculate_accuracy(y_test, y_pred_uni), calculate_accuracy(y_test, y_pred_bi)],\n",
    "    'Recall (%)': [calculate_recall(y_test, y_pred_uni), calculate_recall(y_test, y_pred_bi)],\n",
    "    'Precision (%)': [calculate_precision(y_test, y_pred_uni), calculate_precision(y_test, y_pred_bi)],\n",
    "    'F1 Score (%)': [calculate_f1_score(y_test, y_pred_uni), calculate_f1_score(y_test, y_pred_bi)]\n",
    "\n",
    "}\n",
    "\n",
    "# Plotting the results\n",
    "col_labels = []\n",
    "uni_values = []\n",
    "bi_values = []\n",
    "for key, value in results.items():\n",
    "    col_labels.append(key)\n",
    "    uni_values.append(round(value[0], 2))\n",
    "    bi_values.append(round(value[1], 2))\n",
    "\n",
    "cell = [uni_values, bi_values]\n",
    "\n",
    "\n",
    "#  set figure\n",
    "plt.figure(figsize=(10, 2))\n",
    "plt.title(\"Custom Naive Bayes Metrics\")\n",
    "plt.box(on=None)\n",
    "ax = plt.gca()\n",
    "ax.get_xaxis().set_visible(False)\n",
    "ax.get_yaxis().set_visible(False)\n",
    "\n",
    "# create table\n",
    "the_table = plt.table(\n",
    "    cellText=cell,\n",
    "    rowLabels=models,\n",
    "    colLabels=col_labels,\n",
    "    loc='center',\n",
    "    cellLoc='center',\n",
    "    cellColours=None,\n",
    "    rowLoc='center',\n",
    "    colLoc='center',\n",
    "    edges='closed'\n",
    ")\n",
    "\n",
    "the_table.auto_set_font_size(False)\n",
    "the_table.set_fontsize(12)\n",
    "the_table.scale(1, 1.5)\n",
    "\n",
    "plt.show()\n"
   ]
  },
  {
   "cell_type": "markdown",
   "id": "c70593a1",
   "metadata": {},
   "source": [
    "## 11. Conclusion\n",
    "\n",
    "In this notebook, we successfully implemented a Multinomial Naive Bayes classifier and a Bag-of-Words feature extraction mechanism from scratch, adhering to the constraint of minimal library usage.\n",
    "\n",
    "**Process Summary:**\n",
    "1.  **Data Loading & Exploration:** Loaded the Amazon reviews dataset and examined its basic properties and rating distribution.\n",
    "2.  **Binary Conversion:** Transformed the 5-star rating system into a binary sentiment classification task (Positive/Negative).\n",
    "3.  **Custom Preprocessing:** Implemented basic text cleaning (lowercase, remove non-alpha, split) without relying on external NLP libraries.\n",
    "4.  **Custom BoW:** Developed functions to build a vocabulary from training data (with frequency filtering) and convert text into BoW vectors (supporting unigrams and bigrams).\n",
    "5.  **Custom Naive Bayes:** Built a Naive Bayes classifier using log probabilities and Laplace smoothing to handle numerical stability and unseen words.\n",
    "6.  **Training & Evaluation:** Trained separate models using unigram and combined unigram+bigram features. Evaluated their performance using accuracy calculated manually.\n",
    "\n",
    "**Key Findings:**\n",
    "- The custom Naive Bayes implementation successfully classified reviews based on the BoW features.\n",
    "- The accuracy achieved demonstrates the effectiveness of the Naive Bayes algorithm for text classification, even with a basic implementation.\n",
    "- Including bigrams alongside unigrams resulted in a [mention whether accuracy increased, decreased, or stayed similar, e.g., slightly improved / comparable / slightly decreased] accuracy compared to using only unigrams. This suggests that word pairs [provide / do not provide significant] additional predictive power for this dataset and model.\n",
    "- The use of log probabilities and Laplace smoothing was crucial for a stable and functional implementation.\n",
    "\n",
    "**Potential Improvements (within constraints or as future work):**\n",
    "- Experiment with different `min_freq` thresholds for vocabulary building.\n",
    "- Implement trigrams or character n-grams in the BoW representation.\n",
    "- Refine the preprocessing step (e.g., custom stop word list based on frequency analysis).\n",
    "- Implement other evaluation metrics (Precision, Recall, F1-score) from scratch.\n",
    "- Analyze the most informative features (highest log likelihood difference between classes) identified by the custom model.\n",
    "\n",
    "This project demonstrates a fundamental understanding of the Naive Bayes algorithm and BoW feature representation by implementing them from the ground up."
   ]
  },
  {
   "cell_type": "markdown",
   "id": "0b85e6b2",
   "metadata": {},
   "source": [
    "### References"
   ]
  },
  {
   "cell_type": "markdown",
   "id": "5a33e15f",
   "metadata": {},
   "source": [
    "- [Stop Words List - GitHub](https://gist.github.com/sebleier/554280) - Acces Date: 23/04/2025\n",
    "- [Custom Naive Bayes - GitHub](https://github.com/gbroques/naive-bayes) - Acces Date: 23/04/2025\n",
    "- [Custom Naive Bayes - GeeksforGeeks](https://www.geeksforgeeks.org/ml-naive-bayes-scratch-implementation-using-python/) - Acces Date: 23/04/2025"
   ]
  }
 ],
 "metadata": {
  "kernelspec": {
   "display_name": "Python 3",
   "language": "python",
   "name": "python3"
  },
  "language_info": {
   "codemirror_mode": {
    "name": "ipython",
    "version": 3
   },
   "file_extension": ".py",
   "mimetype": "text/x-python",
   "name": "python",
   "nbconvert_exporter": "python",
   "pygments_lexer": "ipython3",
   "version": "3.12.9"
  }
 },
 "nbformat": 4,
 "nbformat_minor": 5
}
