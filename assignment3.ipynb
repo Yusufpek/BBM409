{
 "cells": [
  {
   "cell_type": "markdown",
   "id": "f6f31e71",
   "metadata": {},
   "source": [
    "# Project Assignment 3: Amazon Review Classification System (Custom Implementation)\n",
    "\n",
    "**Name/Group ID:** Berke Yusuf Uğurlu - Yusuf İpek (Group 6)\n",
    "\n",
    "**Date:** April 21, 2025\n",
    "\n",
    "**Course:** BBM 409 - Machine Learning Laboratory\n",
    "\n",
    "---\n",
    "\n",
    "**Objective:** Implement a Naive Bayes classifier from scratch using a custom Bag-of-Words (BoW) implementation to classify Amazon reviews as positive or negative. Library usage is restricted to data handling (pandas, numpy), visualization (matplotlib, seaborn), basic text processing (re), math operations (math, collections), and data splitting (train_test_split)."
   ]
  },
  {
   "cell_type": "markdown",
   "id": "661e0ffb",
   "metadata": {},
   "source": [
    "## 1. Import Libraries"
   ]
  },
  {
   "cell_type": "code",
   "execution_count": 1,
   "id": "0632282c",
   "metadata": {},
   "outputs": [],
   "source": [
    "# Data manipulation and analysis\n",
    "import pandas as pd\n",
    "import numpy as np\n",
    "import re\n",
    "import math\n",
    "from collections import Counter, defaultdict\n",
    "\n",
    "# Visualization\n",
    "import matplotlib.pyplot as plt\n",
    "import seaborn as sns\n",
    "\n",
    "# Data splitting (Allowed exception)\n",
    "from sklearn.model_selection import train_test_split\n",
    "\n",
    "# Set random seed for reproducibility\n",
    "np.random.seed(42)"
   ]
  },
  {
   "cell_type": "markdown",
   "id": "5865c1bd",
   "metadata": {},
   "source": [
    "## 2. Load and Explore the Dataset"
   ]
  },
  {
   "cell_type": "code",
   "execution_count": 2,
   "id": "409da1e6",
   "metadata": {},
   "outputs": [
    {
     "name": "stdout",
     "output_type": "stream",
     "text": [
      "Sample of the dataset:\n"
     ]
    },
    {
     "data": {
      "text/html": [
       "<div>\n",
       "<style scoped>\n",
       "    .dataframe tbody tr th:only-of-type {\n",
       "        vertical-align: middle;\n",
       "    }\n",
       "\n",
       "    .dataframe tbody tr th {\n",
       "        vertical-align: top;\n",
       "    }\n",
       "\n",
       "    .dataframe thead th {\n",
       "        text-align: right;\n",
       "    }\n",
       "</style>\n",
       "<table border=\"1\" class=\"dataframe\">\n",
       "  <thead>\n",
       "    <tr style=\"text-align: right;\">\n",
       "      <th></th>\n",
       "      <th>Title</th>\n",
       "      <th>Content</th>\n",
       "      <th>Star</th>\n",
       "    </tr>\n",
       "  </thead>\n",
       "  <tbody>\n",
       "    <tr>\n",
       "      <th>0</th>\n",
       "      <td>Didn't work</td>\n",
       "      <td>No change in nails at all.</td>\n",
       "      <td>1.0</td>\n",
       "    </tr>\n",
       "    <tr>\n",
       "      <th>1</th>\n",
       "      <td>Worst nail product I have ever used.</td>\n",
       "      <td>Garbage! Do not waste your $$$. My nails were ...</td>\n",
       "      <td>1.0</td>\n",
       "    </tr>\n",
       "    <tr>\n",
       "      <th>2</th>\n",
       "      <td>Just didn't work</td>\n",
       "      <td>Nails are still brittle</td>\n",
       "      <td>1.0</td>\n",
       "    </tr>\n",
       "    <tr>\n",
       "      <th>3</th>\n",
       "      <td>Scum</td>\n",
       "      <td>Didn’t do any improvement at all.</td>\n",
       "      <td>1.0</td>\n",
       "    </tr>\n",
       "    <tr>\n",
       "      <th>4</th>\n",
       "      <td>Okay for cuticles</td>\n",
       "      <td>Helped cuticles, didn't do much for my nails. ...</td>\n",
       "      <td>1.0</td>\n",
       "    </tr>\n",
       "  </tbody>\n",
       "</table>\n",
       "</div>"
      ],
      "text/plain": [
       "                                  Title  \\\n",
       "0                           Didn't work   \n",
       "1  Worst nail product I have ever used.   \n",
       "2                      Just didn't work   \n",
       "3                                  Scum   \n",
       "4                     Okay for cuticles   \n",
       "\n",
       "                                             Content  Star  \n",
       "0                         No change in nails at all.   1.0  \n",
       "1  Garbage! Do not waste your $$$. My nails were ...   1.0  \n",
       "2                            Nails are still brittle   1.0  \n",
       "3                  Didn’t do any improvement at all.   1.0  \n",
       "4  Helped cuticles, didn't do much for my nails. ...   1.0  "
      ]
     },
     "execution_count": 2,
     "metadata": {},
     "output_type": "execute_result"
    }
   ],
   "source": [
    "# Load the Amazon reviews dataset\n",
    "try:\n",
    "    reviews_df = pd.read_csv('amazon_reviews.csv')\n",
    "except FileNotFoundError:\n",
    "    print(\"Error: 'amazon_reviews.csv' not found. Make sure the file is in the correct directory.\")\n",
    "    # Exit or handle error appropriately\n",
    "    exit()\n",
    "\n",
    "# Display the first few rows\n",
    "print(\"Sample of the dataset:\")\n",
    "reviews_df.head()"
   ]
  },
  {
   "cell_type": "code",
   "execution_count": 3,
   "id": "4d91ede9",
   "metadata": {},
   "outputs": [
    {
     "name": "stdout",
     "output_type": "stream",
     "text": [
      "Dataset shape: (72500, 3)\n",
      "\n",
      "Column names: ['Title', 'Content', 'Star']\n",
      "\n",
      "Data types:\n",
      "<class 'pandas.core.frame.DataFrame'>\n",
      "RangeIndex: 72500 entries, 0 to 72499\n",
      "Data columns (total 3 columns):\n",
      " #   Column   Non-Null Count  Dtype  \n",
      "---  ------   --------------  -----  \n",
      " 0   Title    72480 non-null  object \n",
      " 1   Content  72493 non-null  object \n",
      " 2   Star     72500 non-null  float64\n",
      "dtypes: float64(1), object(2)\n",
      "memory usage: 1.7+ MB\n",
      "\n",
      "Missing values:\n",
      "Title      0\n",
      "Content    0\n",
      "Star       0\n",
      "dtype: int64\n"
     ]
    }
   ],
   "source": [
    "# Basic information about the dataset\n",
    "print(\"Dataset shape:\", reviews_df.shape)\n",
    "print(\"\\nColumn names:\", reviews_df.columns.tolist())\n",
    "print(\"\\nData types:\")\n",
    "reviews_df.info()\n",
    "print(\"\\nMissing values:\")\n",
    "# Fill NaN in 'Content' and 'Title' before checking nulls for other columns if needed\n",
    "reviews_df['Content'] = reviews_df['Content'].fillna(\"\")\n",
    "reviews_df['Title'] = reviews_df['Title'].fillna(\"\")\n",
    "print(reviews_df.isnull().sum())"
   ]
  },
  {
   "cell_type": "code",
   "execution_count": 4,
   "id": "8a09765c",
   "metadata": {},
   "outputs": [
    {
     "data": {
      "image/png": "[encoded data removed]",
      "text/plain": [
       "<Figure size 1000x600 with 1 Axes>"
      ]
     },
     "metadata": {},
     "output_type": "display_data"
    },
    {
     "name": "stdout",
     "output_type": "stream",
     "text": [
      "Star rating distribution:\n",
      " Star\n",
      "1.0    14500\n",
      "2.0    14500\n",
      "3.0    14500\n",
      "4.0    14500\n",
      "5.0    14500\n",
      "Name: count, dtype: int64\n"
     ]
    }
   ],
   "source": [
    "# Examine the distribution of star ratings\n",
    "plt.figure(figsize=(10, 6))\n",
    "reviews_df['Star'].value_counts().sort_index().plot(kind='bar')\n",
    "plt.title('Distribution of Star Ratings')\n",
    "plt.xlabel('Star Rating')\n",
    "plt.ylabel('Count')\n",
    "plt.show()\n",
    "\n",
    "# Summary statistics for star ratings\n",
    "print(\"Star rating distribution:\\n\", reviews_df['Star'].value_counts().sort_index())"
   ]
  },
  {
   "cell_type": "markdown",
   "id": "5223b241",
   "metadata": {},
   "source": [
    "## 3. Convert to Binary Classification\n",
    "\n",
    "Convert the multi-class star ratings into a binary classification problem:\n",
    "- Negative reviews (0): 1-2 stars\n",
    "- Positive reviews (1): 4-5 stars\n",
    "\n",
    "Exclude 3-star (neutral) reviews."
   ]
  },
  {
   "cell_type": "code",
   "execution_count": 5,
   "id": "86da8d5f",
   "metadata": {},
   "outputs": [
    {
     "name": "stdout",
     "output_type": "stream",
     "text": [
      "Binary sentiment distribution:\n",
      "sentiment\n",
      "0    29000\n",
      "1    29000\n",
      "Name: count, dtype: int64\n"
     ]
    },
    {
     "data": {
      "image/png": "[encoded data removed]",
      "text/plain": [
       "<Figure size 800x600 with 1 Axes>"
      ]
     },
     "metadata": {},
     "output_type": "display_data"
    }
   ],
   "source": [
    "# Create binary labels: 0 for negative (1-2 stars), 1 for positive (4-5 stars)\n",
    "reviews_df['sentiment'] = reviews_df['Star'].apply(lambda x: 0 if x <= 2 else (1 if x >= 4 else None))\n",
    "\n",
    "# Remove neutral (3-star) reviews and create a copy\n",
    "binary_df = reviews_df.dropna(subset=['sentiment']).copy()\n",
    "# Convert sentiment to integer type\n",
    "binary_df['sentiment'] = binary_df['sentiment'].astype(int)\n",
    "\n",
    "# Check the class distribution\n",
    "print(\"Binary sentiment distribution:\")\n",
    "print(binary_df['sentiment'].value_counts())\n",
    "\n",
    "# Visualize the distribution\n",
    "plt.figure(figsize=(8, 6))\n",
    "sns.countplot(x='sentiment', data=binary_df)\n",
    "plt.title('Distribution of Binary Sentiment')\n",
    "plt.xlabel('Sentiment (0=Negative, 1=Positive)')\n",
    "plt.ylabel('Count')\n",
    "plt.xticks([0, 1], ['Negative (0)', 'Positive (1)'])\n",
    "plt.show()"
   ]
  },
  {
   "cell_type": "markdown",
   "id": "0f96ccd7",
   "metadata": {},
   "source": [
    "## 4. Custom Text Preprocessing\n",
    "\n",
    "Implement a basic text preprocessing function without using external NLP libraries like NLTK."
   ]
  },
  {
   "cell_type": "code",
   "execution_count": 6,
   "id": "1accc91f",
   "metadata": {},
   "outputs": [],
   "source": [
    "def preprocess_text(text):\n",
    "    \"\"\"Basic text preprocessing:\n",
    "    - Convert to lowercase\n",
    "    - Remove non-alphanumeric characters (keep spaces)\n",
    "    - Remove numbers\n",
    "    - Split into words (tokens)\n",
    "    \"\"\"\n",
    "    if not isinstance(text, str):\n",
    "        return []\n",
    "    # Lowercase\n",
    "    text = text.lower()\n",
    "    # Remove non-alphanumeric characters (excluding spaces)\n",
    "    text = re.sub(r'[^a-z\\s]', '', text)\n",
    "    # Remove numbers (already covered by previous step, but good practice)\n",
    "    # text = re.sub(r'\\d+', '', text)\n",
    "    # Remove extra whitespace and split\n",
    "    tokens = text.split()\n",
    "    # Optional: Remove very short words (e.g., length 1)\n",
    "    # tokens = [token for token in tokens if len(token) > 1]\n",
    "    return tokens"
   ]
  },
  {
   "cell_type": "code",
   "execution_count": 7,
   "id": "6a2cfee8",
   "metadata": {},
   "outputs": [
    {
     "name": "stdout",
     "output_type": "stream",
     "text": [
      "Applying custom text preprocessing...\n",
      "\n",
      "Sample of preprocessed text (tokens):\n",
      "                                                                                                                                                                                            full_text  \\\n",
      "0                                                                                                                                                              Didn't work No change in nails at all.   \n",
      "1  Worst nail product I have ever used. Garbage! Do not waste your $$$. My nails were worse after using this product for two weeks.  Pathetic!  Going back to my Vaseline Healthy Hand and and Nails.   \n",
      "2                                                                                                                                                            Just didn't work Nails are still brittle   \n",
      "\n",
      "                                                                                                                                                                                                    tokens  \n",
      "0                                                                                                                                                            [didnt, work, no, change, in, nails, at, all]  \n",
      "1  [worst, nail, product, i, have, ever, used, garbage, do, not, waste, your, my, nails, were, worse, after, using, this, product, for, two, weeks, pathetic, going, back, to, my, vaseline, healthy, h...  \n",
      "2                                                                                                                                                          [just, didnt, work, nails, are, still, brittle]  \n",
      "\n",
      "Sample of preprocessed text (tokens):\n",
      "                                                                                                                                                                                            full_text  \\\n",
      "0                                                                                                                                                              Didn't work No change in nails at all.   \n",
      "1  Worst nail product I have ever used. Garbage! Do not waste your $$$. My nails were worse after using this product for two weeks.  Pathetic!  Going back to my Vaseline Healthy Hand and and Nails.   \n",
      "2                                                                                                                                                            Just didn't work Nails are still brittle   \n",
      "\n",
      "                                                                                                                                                                                                    tokens  \n",
      "0                                                                                                                                                            [didnt, work, no, change, in, nails, at, all]  \n",
      "1  [worst, nail, product, i, have, ever, used, garbage, do, not, waste, your, my, nails, were, worse, after, using, this, product, for, two, weeks, pathetic, going, back, to, my, vaseline, healthy, h...  \n",
      "2                                                                                                                                                          [just, didnt, work, nails, are, still, brittle]  \n"
     ]
    }
   ],
   "source": [
    "# Apply preprocessing\n",
    "print(\"Applying custom text preprocessing...\")\n",
    "\n",
    "# Combine title and content for a richer feature set\n",
    "binary_df['full_text'] = binary_df['Title'] + \" \" + binary_df['Content']\n",
    "\n",
    "# Apply the preprocessing function\n",
    "binary_df['tokens'] = binary_df['full_text'].apply(preprocess_text)\n",
    "\n",
    "# Display a sample of preprocessed text\n",
    "print(\"\\nSample of preprocessed text (tokens):\")\n",
    "sample = binary_df[['full_text', 'tokens']].head(3)\n",
    "pd.set_option('display.max_colwidth', 200)\n",
    "print(sample)"
   ]
  },
  {
   "cell_type": "markdown",
   "id": "337ca902",
   "metadata": {},
   "source": [
    "## 5. Custom Bag-of-Words (BoW) Implementation\n",
    "\n",
    "Implement BoW feature extraction from scratch, including vocabulary building and handling n-grams."
   ]
  },
  {
   "cell_type": "code",
   "execution_count": 8,
   "id": "35215399",
   "metadata": {},
   "outputs": [],
   "source": [
    "def build_vocab(token_lists, min_freq=2):\n",
    "    \"\"\"Builds a vocabulary from a list of token lists.\n",
    "    Args:\n",
    "        token_lists: A list where each element is a list of tokens (words).\n",
    "        min_freq: Minimum frequency for a word to be included in the vocab.\n",
    "    Returns:\n",
    "        A set representing the vocabulary.\n",
    "    \"\"\"\n",
    "    word_counts = Counter()\n",
    "    for tokens in token_lists:\n",
    "        word_counts.update(tokens)\n",
    "    \n",
    "    # Filter words based on minimum frequency\n",
    "    vocab = {word for word, count in word_counts.items() if count >= min_freq}\n",
    "    print(f\"Built vocabulary with {len(vocab)} words (min_freq={min_freq}). Original unique words: {len(word_counts)}\")\n",
    "    return vocab\n",
    "\n",
    "def get_ngrams(tokens, n):\n",
    "    \"\"\"Generates n-grams from a list of tokens.\"\"\"\n",
    "    ngrams = []\n",
    "    for i in range(len(tokens) - n + 1):\n",
    "        ngrams.append(\"_\".join(tokens[i:i+n])) # Join n-grams with underscore\n",
    "    return ngrams\n",
    "\n",
    "def text_to_bow(tokens, vocab, use_unigrams=True, use_bigrams=False):\n",
    "    \"\"\"Converts a list of tokens into a Bag-of-Words representation (frequency count).\n",
    "    Args:\n",
    "        tokens: The list of tokens for a single document.\n",
    "        vocab: The vocabulary set.\n",
    "        use_unigrams: Whether to include unigrams.\n",
    "        use_bigrams: Whether to include bigrams.\n",
    "    Returns:\n",
    "        A Counter object representing the BoW vector.\n",
    "    \"\"\"\n",
    "    bow = Counter()\n",
    "    features_to_count = []\n",
    "    \n",
    "    if use_unigrams:\n",
    "        features_to_count.extend(tokens)\n",
    "        \n",
    "    if use_bigrams:\n",
    "        features_to_count.extend(get_ngrams(tokens, 2))\n",
    "        \n",
    "    # Add more n-grams if needed (e.g., trigrams)\n",
    "    # if use_trigrams:\n",
    "    #     features_to_count.extend(get_ngrams(tokens, 3))\n",
    "    \n",
    "    # Count only features present in the vocabulary\n",
    "    for feature in features_to_count:\n",
    "        if feature in vocab:\n",
    "            bow[feature] += 1\n",
    "            \n",
    "    return bow"
   ]
  },
  {
   "cell_type": "markdown",
   "id": "14f896b0",
   "metadata": {},
   "source": [
    "## 6. Data Splitting"
   ]
  },
  {
   "cell_type": "code",
   "execution_count": 9,
   "id": "c7cc2e2b",
   "metadata": {},
   "outputs": [
    {
     "name": "stdout",
     "output_type": "stream",
     "text": [
      "Training set size: 46400\n",
      "Testing set size: 11600\n",
      "Training labels distribution:\n",
      "sentiment\n",
      "0    0.5\n",
      "1    0.5\n",
      "Name: proportion, dtype: float64\n",
      "Testing labels distribution:\n",
      "sentiment\n",
      "0    0.5\n",
      "1    0.5\n",
      "Name: proportion, dtype: float64\n"
     ]
    }
   ],
   "source": [
    "# Prepare data for modeling\n",
    "# X contains the lists of tokens, y contains the sentiment labels\n",
    "X = binary_df['tokens'] \n",
    "y = binary_df['sentiment']\n",
    "\n",
    "# Split data into training and testing sets (80% train, 20% test)\n",
    "# Stratify ensures the proportion of sentiments is similar in train and test sets\n",
    "X_train_tokens, X_test_tokens, y_train, y_test = train_test_split(\n",
    "    X, y, test_size=0.2, random_state=42, stratify=y\n",
    ")\n",
    "\n",
    "print(f\"Training set size: {len(X_train_tokens)}\")\n",
    "print(f\"Testing set size: {len(X_test_tokens)}\")\n",
    "print(f\"Training labels distribution:\\n{y_train.value_counts(normalize=True)}\")\n",
    "print(f\"Testing labels distribution:\\n{y_test.value_counts(normalize=True)}\")"
   ]
  },
  {
   "cell_type": "markdown",
   "id": "bb10fccc",
   "metadata": {},
   "source": [
    "## 7. Build Vocabulary and Create BoW Features\n",
    "\n",
    "Build the vocabulary *only* from the training data to avoid data leakage. Then, transform both training and test sets into BoW representations."
   ]
  },
  {
   "cell_type": "code",
   "execution_count": 10,
   "id": "416fc9ca",
   "metadata": {},
   "outputs": [
    {
     "name": "stdout",
     "output_type": "stream",
     "text": [
      "\n",
      "--- Processing Unigrams ---\n",
      "Built vocabulary with 11144 words (min_freq=3). Original unique words: 33745\n",
      "\n",
      "--- Processing Bigrams ---\n",
      "\n",
      "--- Processing Bigrams ---\n",
      "Built vocabulary with 52738 words (min_freq=5). Original unique words: 442740\n",
      "Built vocabulary with 52738 words (min_freq=5). Original unique words: 442740\n",
      "\n",
      "Sample Unigram BoW vector (first training instance):\n",
      "[('the', 2), ('smell', 2), ('it', 4), ('smells', 1), ('good', 1), ('a', 1), ('bit', 1), ('strong', 1), ('so', 1), ('dont', 1)]\n",
      "\n",
      "Sample Bigram BoW vector (first training instance):\n",
      "[('the', 2), ('smell', 2), ('it', 4), ('smells', 1), ('good', 1), ('a', 1), ('bit', 1), ('strong', 1), ('so', 1), ('dont', 1)]\n",
      "\n",
      "Sample Unigram BoW vector (first training instance):\n",
      "[('the', 2), ('smell', 2), ('it', 4), ('smells', 1), ('good', 1), ('a', 1), ('bit', 1), ('strong', 1), ('so', 1), ('dont', 1)]\n",
      "\n",
      "Sample Bigram BoW vector (first training instance):\n",
      "[('the', 2), ('smell', 2), ('it', 4), ('smells', 1), ('good', 1), ('a', 1), ('bit', 1), ('strong', 1), ('so', 1), ('dont', 1)]\n"
     ]
    }
   ],
   "source": [
    "# --- Unigram Features ---\n",
    "print(\"\\n--- Processing Unigrams ---\")\n",
    "# Build unigram vocabulary from training data\n",
    "unigram_vocab = build_vocab(X_train_tokens, min_freq=3) # Adjust min_freq as needed\n",
    "\n",
    "# Create unigram BoW for training and test sets\n",
    "X_train_bow_uni = [text_to_bow(tokens, unigram_vocab, use_unigrams=True, use_bigrams=False) for tokens in X_train_tokens]\n",
    "X_test_bow_uni = [text_to_bow(tokens, unigram_vocab, use_unigrams=True, use_bigrams=False) for tokens in X_test_tokens]\n",
    "\n",
    "# --- Bigram Features ---\n",
    "print(\"\\n--- Processing Bigrams ---\")\n",
    "# Build a vocabulary containing both unigrams and bigrams\n",
    "# First, generate all potential unigrams and bigrams from training data\n",
    "train_features_bi = []\n",
    "for tokens in X_train_tokens:\n",
    "    train_features_bi.extend(tokens) # Add unigrams\n",
    "    train_features_bi.extend(get_ngrams(tokens, 2)) # Add bigrams\n",
    "\n",
    "# Build vocabulary from combined unigram+bigram features\n",
    "bigram_vocab = build_vocab([train_features_bi], min_freq=5) # Use a slightly higher min_freq for combined features\n",
    "\n",
    "# Create combined unigram+bigram BoW for training and test sets\n",
    "X_train_bow_bi = [text_to_bow(tokens, bigram_vocab, use_unigrams=True, use_bigrams=True) for tokens in X_train_tokens]\n",
    "X_test_bow_bi = [text_to_bow(tokens, bigram_vocab, use_unigrams=True, use_bigrams=True) for tokens in X_test_tokens]\n",
    "\n",
    "# Display a sample BoW vector\n",
    "print(\"\\nSample Unigram BoW vector (first training instance):\")\n",
    "print(list(X_train_bow_uni[0].items())[:10]) # Show first 10 items\n",
    "print(\"\\nSample Bigram BoW vector (first training instance):\")\n",
    "print(list(X_train_bow_bi[0].items())[:10]) # Show first 10 items"
   ]
  },
  {
   "cell_type": "markdown",
   "id": "f55dbb05",
   "metadata": {},
   "source": [
    "## 8. Custom Naive Bayes Implementation\n",
    "\n",
    "Implement the Multinomial Naive Bayes algorithm from scratch using logarithmic probabilities and Laplace smoothing."
   ]
  },
  {
   "cell_type": "code",
   "execution_count": 11,
   "id": "47097be6",
   "metadata": {},
   "outputs": [],
   "source": [
    "class NaiveBayes:\n",
    "    def __init__(self, alpha=1.0):\n",
    "        \"\"\"Initialize Naive Bayes classifier.\n",
    "        Args:\n",
    "            alpha: Laplace smoothing parameter.\n",
    "        \"\"\"\n",
    "        self.alpha = alpha\n",
    "        self.vocab = set()\n",
    "        self.log_priors = {} # log P(class)\n",
    "        self.log_likelihoods = defaultdict(lambda: defaultdict(float)) # log P(word|class)\n",
    "        self.classes = []\n",
    "        self.vocab_size = 0\n",
    "        self.log_likelihood_unknown = {} # log P(unknown|class)\n",
    "\n",
    "    def fit(self, X_bow, y, vocab):\n",
    "        \"\"\"Train the Naive Bayes classifier.\n",
    "        Args:\n",
    "            X_bow: List of BoW representations (Counters) for training data.\n",
    "            y: Series or list of training labels.\n",
    "            vocab: The vocabulary set used to create X_bow.\n",
    "        \"\"\"\n",
    "        self.vocab = vocab\n",
    "        self.vocab_size = len(self.vocab)\n",
    "        n_docs = len(X_bow)\n",
    "        self.classes = sorted(list(y.unique()))\n",
    "        \n",
    "        # Calculate log priors: log P(class) = log(N_class / N_total)\n",
    "        class_counts = Counter(y)\n",
    "        for c in self.classes:\n",
    "            self.log_priors[c] = math.log(class_counts[c] / n_docs)\n",
    "            \n",
    "        # Calculate word counts per class\n",
    "        word_counts_per_class = defaultdict(Counter)\n",
    "        total_words_per_class = defaultdict(float)\n",
    "        \n",
    "        for bow, label in zip(X_bow, y):\n",
    "            word_counts_per_class[label].update(bow)\n",
    "            total_words_per_class[label] += sum(bow.values())\n",
    "            \n",
    "        # Calculate log likelihoods: log P(word|class)\n",
    "        # Use Laplace smoothing: log((count(word, class) + alpha) / (total_words_class + alpha * vocab_size))\n",
    "        for c in self.classes:\n",
    "            denominator = total_words_per_class[c] + self.alpha * self.vocab_size\n",
    "            # Calculate likelihood for known words\n",
    "            for word in self.vocab:\n",
    "                numerator = word_counts_per_class[c][word] + self.alpha\n",
    "                self.log_likelihoods[c][word] = math.log(numerator / denominator)\n",
    "            # Calculate likelihood for unknown words (seen during prediction but not in vocab)\n",
    "            # P(unknown|class) = alpha / (total_words_class + alpha * vocab_size)\n",
    "            self.log_likelihood_unknown[c] = math.log(self.alpha / denominator)\n",
    "            \n",
    "        print(\"Naive Bayes training complete.\")\n",
    "        print(f\"Log Priors: {self.log_priors}\")\n",
    "        # print(f\"Sample Log Likelihoods (Class 0): {list(self.log_likelihoods[0].items())[:5]}\")\n",
    "        # print(f\"Sample Log Likelihoods (Class 1): {list(self.log_likelihoods[1].items())[:5]}\")\n",
    "        print(f\"Log Likelihood for Unknown Words: {self.log_likelihood_unknown}\")\n",
    "\n",
    "    def predict(self, X_bow):\n",
    "        \"\"\"Make predictions for new data.\n",
    "        Args:\n",
    "            X_bow: List of BoW representations (Counters) for test data.\n",
    "        Returns:\n",
    "            A list of predicted class labels.\n",
    "        \"\"\"\n",
    "        predictions = []\n",
    "        for bow in X_bow:\n",
    "            class_scores = {}\n",
    "            for c in self.classes:\n",
    "                # Start with log prior\n",
    "                score = self.log_priors[c]\n",
    "                # Add log likelihoods for words in the document\n",
    "                for word, count in bow.items():\n",
    "                    if word in self.vocab:\n",
    "                        score += count * self.log_likelihoods[c][word]\n",
    "                    else:\n",
    "                        # Handle unknown words encountered during prediction\n",
    "                        score += count * self.log_likelihood_unknown[c]\n",
    "                class_scores[c] = score\n",
    "            \n",
    "            # Choose class with the highest log probability\n",
    "            predicted_class = max(class_scores, key=class_scores.get)\n",
    "            predictions.append(predicted_class)\n",
    "            \n",
    "        return predictions"
   ]
  },
  {
   "cell_type": "markdown",
   "id": "d72b71f8",
   "metadata": {},
   "source": [
    "## 9. Model Training and Evaluation (Custom Implementation)"
   ]
  },
  {
   "cell_type": "code",
   "execution_count": 12,
   "id": "c850f867",
   "metadata": {},
   "outputs": [
    {
     "name": "stdout",
     "output_type": "stream",
     "text": [
      "\n",
      "--- Training Unigram Naive Bayes ---\n",
      "Naive Bayes training complete.\n",
      "Log Priors: {np.int64(0): -0.6931471805599453, np.int64(1): -0.6931471805599453}\n",
      "Log Likelihood for Unknown Words: {np.int64(0): -13.817115269725363, np.int64(1): -13.590423869982224}\n",
      "\n",
      "--- Evaluating Unigram Naive Bayes ---\n",
      "Unigram Model Accuracy: 0.8706\n",
      "\n",
      "--- Training Bigram Naive Bayes ---\n",
      "Naive Bayes training complete.\n",
      "Log Priors: {np.int64(0): -0.6931471805599453, np.int64(1): -0.6931471805599453}\n",
      "Log Likelihood for Unknown Words: {np.int64(0): -13.817115269725363, np.int64(1): -13.590423869982224}\n",
      "\n",
      "--- Evaluating Unigram Naive Bayes ---\n",
      "Unigram Model Accuracy: 0.8706\n",
      "\n",
      "--- Training Bigram Naive Bayes ---\n",
      "Naive Bayes training complete.\n",
      "Log Priors: {np.int64(0): -0.6931471805599453, np.int64(1): -0.6931471805599453}\n",
      "Log Likelihood for Unknown Words: {np.int64(0): -14.370671867999288, np.int64(1): -14.150210510732121}\n",
      "\n",
      "--- Evaluating Bigram Naive Bayes ---\n",
      "Naive Bayes training complete.\n",
      "Log Priors: {np.int64(0): -0.6931471805599453, np.int64(1): -0.6931471805599453}\n",
      "Log Likelihood for Unknown Words: {np.int64(0): -14.370671867999288, np.int64(1): -14.150210510732121}\n",
      "\n",
      "--- Evaluating Bigram Naive Bayes ---\n",
      "Bigram (1+2 grams) Model Accuracy: 0.9017\n",
      "Bigram (1+2 grams) Model Accuracy: 0.9017\n"
     ]
    }
   ],
   "source": [
    "def calculate_accuracy(y_true, y_pred):\n",
    "    \"\"\"Calculates accuracy from true and predicted labels.\"\"\"\n",
    "    correct = sum(1 for true, pred in zip(y_true, y_pred) if true == pred)\n",
    "    return correct / len(y_true) if len(y_true) > 0 else 0\n",
    "\n",
    "# --- Train and Evaluate Unigram Model ---\n",
    "print(\"\\n--- Training Unigram Naive Bayes ---\")\n",
    "nb_uni = NaiveBayes(alpha=1.0)\n",
    "nb_uni.fit(X_train_bow_uni, y_train, unigram_vocab)\n",
    "\n",
    "print(\"\\n--- Evaluating Unigram Naive Bayes ---\")\n",
    "y_pred_uni = nb_uni.predict(X_test_bow_uni)\n",
    "accuracy_uni = calculate_accuracy(y_test, y_pred_uni)\n",
    "print(f\"Unigram Model Accuracy: {accuracy_uni:.4f}\")\n",
    "\n",
    "# --- Train and Evaluate Bigram (Unigram + Bigram) Model ---\n",
    "print(\"\\n--- Training Bigram Naive Bayes ---\")\n",
    "nb_bi = NaiveBayes(alpha=1.0)\n",
    "nb_bi.fit(X_train_bow_bi, y_train, bigram_vocab)\n",
    "\n",
    "print(\"\\n--- Evaluating Bigram Naive Bayes ---\")\n",
    "y_pred_bi = nb_bi.predict(X_test_bow_bi)\n",
    "accuracy_bi = calculate_accuracy(y_test, y_pred_bi)\n",
    "print(f\"Bigram (1+2 grams) Model Accuracy: {accuracy_bi:.4f}\")"
   ]
  },
  {
   "cell_type": "markdown",
   "id": "0d4de9ec",
   "metadata": {},
   "source": [
    "## 10. Results Summary"
   ]
  },
  {
   "cell_type": "code",
   "execution_count": 13,
   "id": "2dbbc7b9",
   "metadata": {},
   "outputs": [
    {
     "name": "stdout",
     "output_type": "stream",
     "text": [
      "                              Model  Vocabulary Size  Accuracy\n",
      "0            Naive Bayes (Unigrams)            11144  0.870603\n",
      "1  Naive Bayes (Unigrams + Bigrams)            52738  0.901724\n"
     ]
    },
    {
     "data": {
      "image/png": "[encoded data removed]",
      "text/plain": [
       "<Figure size 800x500 with 1 Axes>"
      ]
     },
     "metadata": {},
     "output_type": "display_data"
    }
   ],
   "source": [
    "# Display results\n",
    "results = {\n",
    "    'Model': ['Naive Bayes (Unigrams)', 'Naive Bayes (Unigrams + Bigrams)'],\n",
    "    'Vocabulary Size': [len(unigram_vocab), len(bigram_vocab)],\n",
    "    'Accuracy': [accuracy_uni, accuracy_bi]\n",
    "}\n",
    "results_df = pd.DataFrame(results)\n",
    "print(results_df)\n",
    "\n",
    "# Plotting the results\n",
    "plt.figure(figsize=(8, 5))\n",
    "sns.barplot(x='Model', y='Accuracy', data=results_df)\n",
    "plt.title('Custom Naive Bayes Model Accuracy')\n",
    "plt.ylabel('Accuracy')\n",
    "plt.ylim(0, 1.0)\n",
    "plt.show()"
   ]
  },
  {
   "cell_type": "markdown",
   "id": "c70593a1",
   "metadata": {},
   "source": [
    "## 11. Conclusion\n",
    "\n",
    "In this notebook, we successfully implemented a Multinomial Naive Bayes classifier and a Bag-of-Words feature extraction mechanism from scratch, adhering to the constraint of minimal library usage.\n",
    "\n",
    "**Process Summary:**\n",
    "1.  **Data Loading & Exploration:** Loaded the Amazon reviews dataset and examined its basic properties and rating distribution.\n",
    "2.  **Binary Conversion:** Transformed the 5-star rating system into a binary sentiment classification task (Positive/Negative).\n",
    "3.  **Custom Preprocessing:** Implemented basic text cleaning (lowercase, remove non-alpha, split) without relying on external NLP libraries.\n",
    "4.  **Custom BoW:** Developed functions to build a vocabulary from training data (with frequency filtering) and convert text into BoW vectors (supporting unigrams and bigrams).\n",
    "5.  **Custom Naive Bayes:** Built a Naive Bayes classifier using log probabilities and Laplace smoothing to handle numerical stability and unseen words.\n",
    "6.  **Training & Evaluation:** Trained separate models using unigram and combined unigram+bigram features. Evaluated their performance using accuracy calculated manually.\n",
    "\n",
    "**Key Findings:**\n",
    "- The custom Naive Bayes implementation successfully classified reviews based on the BoW features.\n",
    "- The accuracy achieved demonstrates the effectiveness of the Naive Bayes algorithm for text classification, even with a basic implementation.\n",
    "- Including bigrams alongside unigrams resulted in a [mention whether accuracy increased, decreased, or stayed similar, e.g., slightly improved / comparable / slightly decreased] accuracy compared to using only unigrams. This suggests that word pairs [provide / do not provide significant] additional predictive power for this dataset and model.\n",
    "- The use of log probabilities and Laplace smoothing was crucial for a stable and functional implementation.\n",
    "\n",
    "**Potential Improvements (within constraints or as future work):**\n",
    "- Experiment with different `min_freq` thresholds for vocabulary building.\n",
    "- Implement trigrams or character n-grams in the BoW representation.\n",
    "- Refine the preprocessing step (e.g., custom stop word list based on frequency analysis).\n",
    "- Implement other evaluation metrics (Precision, Recall, F1-score) from scratch.\n",
    "- Analyze the most informative features (highest log likelihood difference between classes) identified by the custom model.\n",
    "\n",
    "This project demonstrates a fundamental understanding of the Naive Bayes algorithm and BoW feature representation by implementing them from the ground up."
   ]
  },
  {
   "cell_type": "markdown",
   "id": "5ad332d4",
   "metadata": {},
   "source": [
    "---\n",
    "## Bonus Section (Optional)\n",
    "\n",
    "*(This section is reserved for any bonus implementations or analyses where the use of additional libraries like NLTK or Scikit-learn's full capabilities might be permitted, as per assignment guidelines. Ensure any code here is clearly separated from the core 'from scratch' implementation above.)*"
   ]
  }
 ],
 "metadata": {
  "kernelspec": {
   "display_name": "Python 3",
   "language": "python",
   "name": "python3"
  },
  "language_info": {
   "codemirror_mode": {
    "name": "ipython",
    "version": 3
   },
   "file_extension": ".py",
   "mimetype": "text/x-python",
   "name": "python",
   "nbconvert_exporter": "python",
   "pygments_lexer": "ipython3",
   "version": "3.12.9"
  }
 },
 "nbformat": 4,
 "nbformat_minor": 5
}
