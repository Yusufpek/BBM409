{
 "cells": [
  {
   "cell_type": "markdown",
   "metadata": {},
   "source": [
    "# Project-Assignment-1 : Rice Classification"
   ]
  },
  {
   "cell_type": "markdown",
   "metadata": {},
   "source": [
    "## PART I: Textual Data Analysis"
   ]
  },
  {
   "cell_type": "markdown",
   "metadata": {},
   "source": [
    "- **Concept**: KNN works by finding the 'k' closest data points (neighbors) to a new data point and making predictions based on the majority class (for classification) or the average value (for regression) of these neighbors.\n",
    "\n",
    "- **How it works**:\n",
    "    1. Choose the number of neighbors 'k'.\n",
    "    2. Calculate the distance between the new data point and all other data points in the dataset.\n",
    "    3. Identify the 'k' closest neighbors.\n",
    "    4. For classification, assign the most common class among the neighbors to the new data point. For regression, assign the average value of the neighbors to the new data point.\n",
    "\n",
    "- **Advantages**: Simple to understand and implement, no training phase required.\n",
    "- **Disadvantages**: Can be computationally expensive for large datasets, sensitive to the choice of 'k' and the distance metric, and can be affected by irrelevant features.\n",
    "\n",
    "KNN is often used as a baseline model due to its simplicity and effectiveness for certain types of problems."
   ]
  },
  {
   "cell_type": "code",
   "execution_count": null,
   "metadata": {
    "vscode": {
     "languageId": "plaintext"
    }
   },
   "outputs": [],
   "source": []
  }
 ],
 "metadata": {
  "language_info": {
   "name": "python"
  }
 },
 "nbformat": 4,
 "nbformat_minor": 2
}
