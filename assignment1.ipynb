{
 "cells": [
  {
   "cell_type": "markdown",
   "metadata": {},
   "source": [
    "# Project-Assignment-1 : Rice Classification"
   ]
  },
  {
   "cell_type": "code",
   "execution_count": 4,
   "metadata": {},
   "outputs": [],
   "source": [
    "import pandas as pd\n",
    "import numpy as np\n",
    "import matplotlib.pyplot as plt\n",
    "from sklearn.model_selection import train_test_split\n",
    "from sklearn.neighbors import KNeighborsClassifier\n",
    "from sklearn.metrics import accuracy_score"
   ]
  },
  {
   "cell_type": "markdown",
   "metadata": {},
   "source": [
    "## PART I: Textual Data Analysis"
   ]
  },
  {
   "cell_type": "markdown",
   "metadata": {},
   "source": [
    "- **Concept**: KNN works by finding the 'k' closest data points (neighbors) to a new data point and making predictions based on the majority class (for classification) or the average value (for regression) of these neighbors.\n",
    "\n",
    "- **How it works**:\n",
    "    1. Choose the number of neighbors 'k'.\n",
    "    2. Calculate the distance between the new data point and all other data points in the dataset.\n",
    "    3. Identify the 'k' closest neighbors.\n",
    "    4. For classification, assign the most common class among the neighbors to the new data point. For regression, assign the average value of the neighbors to the new data point.\n",
    "\n",
    "- **Advantages**: Simple to understand and implement, no training phase required.\n",
    "- **Disadvantages**: Can be computationally expensive for large datasets, sensitive to the choice of 'k' and the distance metric, and can be affected by irrelevant features.\n",
    "\n",
    "KNN is often used as a baseline model due to its simplicity and effectiveness for certain types of problems."
   ]
  },
  {
   "cell_type": "code",
   "execution_count": 7,
   "metadata": {},
   "outputs": [
    {
     "name": "stdout",
     "output_type": "stream",
     "text": [
      "Predicted  Arborio  Basmati  Ipsala  Jasmine  Karacadag\n",
      "Actual                                                 \n",
      "Arborio          2        0       0        0          0\n",
      "Basmati          1        1       0        0          3\n",
      "Ipsala           1        0       5        0          0\n",
      "Jasmine          0        1       0        5          0\n",
      "Karacadag        0        0       0        0          1\n",
      "Accuracy: 0.7\n"
     ]
    }
   ],
   "source": [
    "# Load data from CSV file\n",
    "df = pd.read_csv('part_i.csv')\n",
    "\n",
    "# Assuming the last column is the target variable and the rest are features\n",
    "X = df.iloc[:100, :-1].values\n",
    "y = df.iloc[:100, -1].values\n",
    "\n",
    "# Split the data into training and testing sets\n",
    "X_train, X_test, y_train, y_test = train_test_split(X, y, test_size=0.2, random_state=42)\n",
    "\n",
    "# Create a KNN classifier with k=3\n",
    "knn = KNeighborsClassifier(n_neighbors=3)\n",
    "\n",
    "# Train the classifier\n",
    "knn.fit(X_train, y_train)\n",
    "\n",
    "# Make predictions\n",
    "y_pred = knn.predict(X_test)\n",
    "\n",
    "# Calculate accuracy\n",
    "accuracy = accuracy_score(y_test, y_pred)\n",
    "# Confusion matrix\n",
    "confusion_matrix = pd.crosstab(y_test, y_pred, rownames=['Actual'], colnames=['Predicted'])\n",
    "print(confusion_matrix)\n",
    "\n",
    "print(f'Accuracy: {accuracy}')"
   ]
  },
  {
   "cell_type": "code",
   "execution_count": null,
   "metadata": {},
   "outputs": [],
   "source": []
  }
 ],
 "metadata": {
  "kernelspec": {
   "display_name": "py312",
   "language": "python",
   "name": "python3"
  },
  "language_info": {
   "codemirror_mode": {
    "name": "ipython",
    "version": 3
   },
   "file_extension": ".py",
   "mimetype": "text/x-python",
   "name": "python",
   "nbconvert_exporter": "python",
   "pygments_lexer": "ipython3",
   "version": "3.12.4"
  }
 },
 "nbformat": 4,
 "nbformat_minor": 2
}
